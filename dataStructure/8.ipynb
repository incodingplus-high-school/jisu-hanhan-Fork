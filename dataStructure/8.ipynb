{
 "cells": [
  {
   "cell_type": "code",
   "execution_count": 30,
   "metadata": {},
   "outputs": [
    {
     "name": "stdout",
     "output_type": "stream",
     "text": [
      "0\n",
      "1\n",
      "3\n",
      "7\n",
      "9\n",
      "10\n",
      "8\n",
      "4\n",
      "2\n",
      "5\n",
      "6\n"
     ]
    }
   ],
   "source": [
    "# def gen(num:int):\n",
    "#     for i in range(num):\n",
    "#         yield i\n",
    "        \n",
    "# g = gen(10)\n",
    "# print(next(g, -1))\n",
    "# print(next(g, -1))\n",
    "# print(next(g, -1))\n",
    "# print(next(g, -1))\n",
    "# print(next(g, -1))\n",
    "# print(next(g, -1))\n",
    "# print(next(g, -1))\n",
    "# print(next(g, -1))\n",
    "# print(next(g, -1))\n",
    "# print(next(g, -1))\n",
    "# print(next(g, -1))\n",
    "# print(next(g, -1))\n",
    "\n",
    "\n",
    "class Node:\n",
    "    _value:int\n",
    "    par:'Node' = None\n",
    "    children:list['Node'] \n",
    "    def __init__(self, val:int, par:'Node' = None):\n",
    "        self._value = val\n",
    "        self.par = par\n",
    "        self.children = []\n",
    "\n",
    "    def element(self):\n",
    "        return self._value\n",
    "    \n",
    "class Tree:\n",
    "    _root:'Node' = None\n",
    "    def root(self):\n",
    "        return self._root\n",
    "    \n",
    "    def isRoot(self, p:'Node'):\n",
    "        return self._root == p\n",
    "    \n",
    "    def addChild(self, val:int, p:'Node' = None):\n",
    "        if p == None and self.root() == None:\n",
    "            self._root = Node(val)\n",
    "            return self._root\n",
    "        elif p == None and self.root() != None:\n",
    "            return\n",
    "        node = Node(val, p)\n",
    "        p.children.append(node)\n",
    "        return node\n",
    "    \n",
    "    def positions(self):\n",
    "        def deep(node:'Node'):\n",
    "            yield node\n",
    "            for i in range(len(node.children)):\n",
    "                for j in deep(node.children[i]):\n",
    "                    yield j\n",
    "        return deep(self._root)\n",
    "        \n",
    "        \n",
    "t = Tree()\n",
    "root = t.addChild(0)\n",
    "r1 = t.addChild(1, root)\n",
    "r2 = t.addChild(2, root)\n",
    "\n",
    "r3 = t.addChild(3, r1)\n",
    "r4 = t.addChild(4, r1)\n",
    "\n",
    "r5 = t.addChild(5, r2)\n",
    "t.addChild(6, r2)\n",
    "\n",
    "r7 = t.addChild(7, r3)\n",
    "t.addChild(8, r3)\n",
    "\n",
    "t.addChild(9, r7)\n",
    "t.addChild(10, r7)\n",
    "for i in t.positions():\n",
    "    print(i.element())"
   ]
  },
  {
   "cell_type": "code",
   "execution_count": 26,
   "metadata": {},
   "outputs": [
    {
     "name": "stdout",
     "output_type": "stream",
     "text": [
      "1\n",
      "2\n",
      "3\n"
     ]
    }
   ],
   "source": [
    "def gen():\n",
    "    yield 1\n",
    "    yield 2\n",
    "    yield 3\n",
    "\n",
    "for i in gen():\n",
    "    print(i)"
   ]
  }
 ],
 "metadata": {
  "kernelspec": {
   "display_name": "Python 3",
   "language": "python",
   "name": "python3"
  },
  "language_info": {
   "codemirror_mode": {
    "name": "ipython",
    "version": 3
   },
   "file_extension": ".py",
   "mimetype": "text/x-python",
   "name": "python",
   "nbconvert_exporter": "python",
   "pygments_lexer": "ipython3",
   "version": "3.10.6"
  },
  "orig_nbformat": 4
 },
 "nbformat": 4,
 "nbformat_minor": 2
}
