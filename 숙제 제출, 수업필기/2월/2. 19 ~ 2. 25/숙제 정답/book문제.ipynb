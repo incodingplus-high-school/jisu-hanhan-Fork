{
 "cells": [
  {
   "attachments": {},
   "cell_type": "markdown",
   "metadata": {},
   "source": [
    "C-4.9 Write a short recursive Python function that finds the minimum and max-imum values in a sequence without using any loops.\n",
    "\n",
    "- 반복문을 쓰지 말고 시퀀스의 최대값과 최소 값을 짧은 파이썬 함수로 써라\n",
    "\n",
    "시퀀스? -> 파이썬에서 데이터를 순서대로 나열한 것을 의미함, 시퀀스는 문자열(String), 리스트(List), 튜플(Tuple) 등"
   ]
  },
  {
   "cell_type": "code",
   "execution_count": 20,
   "metadata": {},
   "outputs": [
    {
     "name": "stdout",
     "output_type": "stream",
     "text": [
      "3 3 4 4\n",
      "5 5 6 6\n",
      "3 4 5 6\n",
      "7 7 8 8\n",
      "0 0 - -\n",
      "9 9 - 0\n",
      "7 8 - 9\n",
      "3 6 - 9\n",
      "0 0 9 9\n",
      "u u y y\n",
      "0 9 u y\n",
      "g g f f\n",
      "f f s s\n",
      "b b f s\n",
      "f g b s\n",
      "0 y b s\n",
      "- 9 0 y\n"
     ]
    },
    {
     "data": {
      "text/plain": [
       "('-', 'y')"
      ]
     },
     "execution_count": 20,
     "metadata": {},
     "output_type": "execute_result"
    }
   ],
   "source": [
    "def find_min_max(seq):\n",
    "    if len(seq) == 1:\n",
    "        return seq[0], seq[0]\n",
    "    else:\n",
    "        mid = len(seq) // 2\n",
    "        left_min, left_max = find_min_max(seq[:mid])\n",
    "        right_min, right_max = find_min_max(seq[mid:])\n",
    "        print(left_min, left_max, right_min, right_max)\n",
    "        return min(left_min, right_min), max(left_max, right_max)\n",
    "\n",
    "\n",
    "find_min_max('34567890-09uygfbfs')"
   ]
  },
  {
   "cell_type": "code",
   "execution_count": null,
   "metadata": {},
   "outputs": [],
   "source": []
  },
  {
   "attachments": {},
   "cell_type": "markdown",
   "metadata": {},
   "source": [
    "C-4.12 Give a recursive algorithm to compute the product of two positive integers,\n",
    "m and n, using only addition and subtraction."
   ]
  },
  {
   "attachments": {},
   "cell_type": "markdown",
   "metadata": {},
   "source": [
    "C-4.13 In Section 4.2 we prove by induction that the number of lines printed by\n",
    "a call to draw interval(c) is 2c − 1. Another interesting question is how\n",
    "many dashes are printed during that process. Prove by induction that the\n",
    "number of dashes printed by draw interval(c) is 2c+1 −c−2."
   ]
  },
  {
   "attachments": {},
   "cell_type": "markdown",
   "metadata": {},
   "source": [
    "C-4.14 In the Towers of Hanoi puzzle, we are given a platform with three pegs, a,\n",
    "b, and c, sticking out of it. On peg a is a stack of n disks, each larger than\n",
    "the next, so that the smallest is on the top and the largest is on the bottom.\n",
    "The puzzle is to move all the disks from peg a to peg c, moving one disk\n",
    "at a time, so that we never place a larger disk on top of a smaller one.\n",
    "See Figure 4.15 for an example of the case n = 4. Describe a recursive\n",
    "algorithm for solving the Towers of Hanoi puzzle for arbitrary n. (Hint:\n",
    "Consider first the subproblem of moving all but the nth disk from peg a to\n",
    "another peg using the third as “temporary storage.”)\n",
    "Figure 4.15: An illustration of the Towers of Hanoi puzzle."
   ]
  },
  {
   "attachments": {},
   "cell_type": "markdown",
   "metadata": {},
   "source": [
    "C-4.15 Write a recursive function that will output all the subsets of a set of n\n",
    "elements (without repeating any subsets)."
   ]
  },
  {
   "attachments": {},
   "cell_type": "markdown",
   "metadata": {},
   "source": [
    "C-4.18 Use recursion to write a Python function for determining if a string s has\n",
    "more vowels than consonants."
   ]
  }
 ],
 "metadata": {
  "kernelspec": {
   "display_name": "Python 3",
   "language": "python",
   "name": "python3"
  },
  "language_info": {
   "codemirror_mode": {
    "name": "ipython",
    "version": 3
   },
   "file_extension": ".py",
   "mimetype": "text/x-python",
   "name": "python",
   "nbconvert_exporter": "python",
   "pygments_lexer": "ipython3",
   "version": "3.11.1"
  },
  "orig_nbformat": 4,
  "vscode": {
   "interpreter": {
    "hash": "4e99742b0211a168e899a542aeb7ebc885ad0cf702d76a1dcf543780c1c33967"
   }
  }
 },
 "nbformat": 4,
 "nbformat_minor": 2
}
