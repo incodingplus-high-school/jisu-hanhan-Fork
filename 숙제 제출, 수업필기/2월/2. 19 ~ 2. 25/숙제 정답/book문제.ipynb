{
 "cells": [
  {
   "attachments": {},
   "cell_type": "markdown",
   "metadata": {},
   "source": [
    "C-4.9 Write a short recursive Python function that finds the minimum and max-imum values in a sequence without using any loops.\n",
    "\n",
    "- 반복문을 쓰지 말고 시퀀스의 최대값과 최소 값을 짧은 파이썬 함수로 써라\n",
    "\n",
    "시퀀스? -> 파이썬에서 데이터를 순서대로 나열한 것을 의미함, 시퀀스는 문자열(String), 리스트(List), 튜플(Tuple) 등\n",
    "\n",
    "- 어케 하는지 모르겠음 일단 했음??"
   ]
  },
  {
   "cell_type": "code",
   "execution_count": 1,
   "metadata": {},
   "outputs": [
    {
     "data": {
      "text/plain": [
       "('-', 'y')"
      ]
     },
     "execution_count": 1,
     "metadata": {},
     "output_type": "execute_result"
    }
   ],
   "source": [
    "def find_min_max(seq):\n",
    "    return min(seq), max(seq)\n",
    "\n",
    "find_min_max('34567890-09uygfbfs')"
   ]
  },
  {
   "attachments": {},
   "cell_type": "markdown",
   "metadata": {},
   "source": [
    "C-4.12 Give a recursive algorithm to compute the product of two positive integers,\n",
    "m and n, using only addition and subtraction.\n",
    "\n",
    "- m, n 의 곱을 재귀함수로 덧셈 뺄셈만 사용해서 하셈.."
   ]
  },
  {
   "cell_type": "code",
   "execution_count": 2,
   "metadata": {},
   "outputs": [
    {
     "data": {
      "text/plain": [
       "6"
      ]
     },
     "execution_count": 2,
     "metadata": {},
     "output_type": "execute_result"
    }
   ],
   "source": [
    "def m_add(m, n):\n",
    "    if n == 1 : return m\n",
    "    else: return m + m_add(m, n - 1)\n",
    "    \n",
    "m_add(3, 2)"
   ]
  },
  {
   "attachments": {},
   "cell_type": "markdown",
   "metadata": {},
   "source": [
    "C-4.18 Use recursion to write a Python function for determining if a string s has\n",
    "more vowels than consonants.\n",
    "\n",
    "- C-4.18 재귀를 사용하여 문자열에 자음보다 모음이 더 많은지 확인하는 Python 함수를 작성하셈"
   ]
  },
  {
   "cell_type": "code",
   "execution_count": 36,
   "metadata": {},
   "outputs": [
    {
     "name": "stdout",
     "output_type": "stream",
     "text": [
      "모음과 자음의 수가 같습니다. \n",
      " 모음: 5, 자음: 5\n"
     ]
    }
   ],
   "source": [
    "def check_vow_con(eng:str, a:int, b:int, n:int, n2:int):\n",
    "    if len(eng) == n:\n",
    "        if a > b: return print(f\"모음이 더 많습니다. \\n 모음: {a}, 자음: {b}\")\n",
    "        elif a < b: return print(f\"자음이 더 많습니다. \\n 모음: {a}, 자음: {b}\")\n",
    "        else: return print(f\"모음과 자음의 수가 같습니다. \\n 모음: {a}, 자음: {b}\")\n",
    "    else:\n",
    "        if eng[n:n2] in ['a', 'e', 'i', 'o', 'u', 'A', 'E', 'I', 'O', 'U']: check_vow_con(eng, a + 1, b, n + 1, n2 + 1)\n",
    "        elif 65 <= ord(eng[n:n2]) <= 90 or 97 <= ord(eng[n:n2]) <= 122: check_vow_con(eng, a, b + 1, n + 1, n2 + 1)\n",
    "        else: check_vow_con(eng, a, b, n + 1, n2 + 1)\n",
    "check_vow_con('aexiozIxzz', 0, 0, 0, 1)"
   ]
  },
  {
   "attachments": {},
   "cell_type": "markdown",
   "metadata": {},
   "source": [
    "C-4.13 In Section 4.2 we prove by induction that the number of lines printed by\n",
    "a call to draw interval(c) is 2c − 1. Another interesting question is how\n",
    "many dashes are printed during that process. Prove by induction that the\n",
    "number of dashes printed by draw interval(c) is 2c+1 −c−2."
   ]
  },
  {
   "attachments": {},
   "cell_type": "markdown",
   "metadata": {},
   "source": [
    "C-4.14 In the Towers of Hanoi puzzle, we are given a platform with three pegs, a,\n",
    "b, and c, sticking out of it. On peg a is a stack of n disks, each larger than\n",
    "the next, so that the smallest is on the top and the largest is on the bottom.\n",
    "The puzzle is to move all the disks from peg a to peg c, moving one disk\n",
    "at a time, so that we never place a larger disk on top of a smaller one.\n",
    "See Figure 4.15 for an example of the case n = 4. Describe a recursive\n",
    "algorithm for solving the Towers of Hanoi puzzle for arbitrary n. (Hint:\n",
    "Consider first the subproblem of moving all but the nth disk from peg a to\n",
    "another peg using the third as “temporary storage.”)\n",
    "Figure 4.15: An illustration of the Towers of Hanoi puzzle."
   ]
  },
  {
   "attachments": {},
   "cell_type": "markdown",
   "metadata": {},
   "source": [
    "C-4.15 Write a recursive function that will output all the subsets of a set of n\n",
    "elements (without repeating any subsets)."
   ]
  }
 ],
 "metadata": {
  "kernelspec": {
   "display_name": "Python 3",
   "language": "python",
   "name": "python3"
  },
  "language_info": {
   "codemirror_mode": {
    "name": "ipython",
    "version": 3
   },
   "file_extension": ".py",
   "mimetype": "text/x-python",
   "name": "python",
   "nbconvert_exporter": "python",
   "pygments_lexer": "ipython3",
   "version": "3.11.1"
  },
  "orig_nbformat": 4,
  "vscode": {
   "interpreter": {
    "hash": "4e99742b0211a168e899a542aeb7ebc885ad0cf702d76a1dcf543780c1c33967"
   }
  }
 },
 "nbformat": 4,
 "nbformat_minor": 2
}
