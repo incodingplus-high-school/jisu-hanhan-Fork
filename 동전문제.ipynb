{
 "cells": [
  {
   "attachments": {},
   "cell_type": "markdown",
   "metadata": {},
   "source": [
    "# 동전 문제\n",
    "\n",
    "- 500, 100, 50, 10\n",
    "- 500원을 만들 때\n",
    "- 500 = 0\n",
    "    - 100 = 0\n",
    "        - 50 = 0\n",
    "            - 10 = 0\n",
    "            - 10 = 1\n",
    "            ...\n",
    "            - 10 = 50\n",
    "        - 50 = 1\n",
    "            - 10 = 0\n",
    "            - 10 = 1\n",
    "            ...\n",
    "            - 10 = 45\n",
    "        ...\n",
    "        - 50 = 10\n",
    "    - 100 = 1\n",
    "    ...\n",
    "    - 100 = 5"
   ]
  },
  {
   "cell_type": "code",
   "execution_count": 4,
   "metadata": {},
   "outputs": [
    {
     "name": "stdout",
     "output_type": "stream",
     "text": [
      "53\n"
     ]
    }
   ],
   "source": [
    "# for문으로 풀기\n",
    "ori = 1000\n",
    "cur = 1000\n",
    "coin_500 = 0\n",
    "count = 0\n",
    "while(cur >= 0):\n",
    "    # 코드\n",
    "    coin_100 = 0\n",
    "    while(cur >= 0):\n",
    "        coin_50 = 0\n",
    "        while(cur >= 0):\n",
    "            if coin_500 // 500 <= 15 and coin_100 // 100 <= 15 and coin_50 // 50 <= 15 and cur // 10 <= 15:\n",
    "                count += 1\n",
    "            coin_50 += 50\n",
    "            cur = ori - coin_500 - coin_100 - coin_50\n",
    "        coin_100 += 100\n",
    "        cur = ori - coin_500 - coin_100\n",
    "    coin_500 += 500\n",
    "    cur = ori - coin_500\n",
    "print(count)"
   ]
  },
  {
   "cell_type": "code",
   "execution_count": 13,
   "metadata": {},
   "outputs": [
    {
     "name": "stdout",
     "output_type": "stream",
     "text": [
      "53\n"
     ]
    }
   ],
   "source": [
    "count = 0\n",
    "\n",
    "def pickFun(cur:int, coins:list[int], pick:list[int], ind:int):\n",
    "    global count\n",
    "    if len(coins) == ind + 1:\n",
    "        pick[ind] = cur // coins[ind]\n",
    "        if pick[ind] > 15:\n",
    "            return\n",
    "        count += 1\n",
    "        return\n",
    "    for j in range(0, cur + 1, coins[ind]):\n",
    "        newPick = pick[:]\n",
    "        newPick[ind] = j // coins[ind]\n",
    "        if newPick[ind] > 15:\n",
    "            break\n",
    "        pickFun(cur - j, coins, newPick, ind + 1)\n",
    "\n",
    "pickFun(1000, [500, 100, 50, 10], [0, 0, 0, 0], 0)\n",
    "print(count)"
   ]
  }
 ],
 "metadata": {
  "kernelspec": {
   "display_name": "Python 3",
   "language": "python",
   "name": "python3"
  },
  "language_info": {
   "codemirror_mode": {
    "name": "ipython",
    "version": 3
   },
   "file_extension": ".py",
   "mimetype": "text/x-python",
   "name": "python",
   "nbconvert_exporter": "python",
   "pygments_lexer": "ipython3",
   "version": "3.11.1"
  },
  "orig_nbformat": 4,
  "vscode": {
   "interpreter": {
    "hash": "ff4b1fca65a764b45acb559e482afe389d289dd599b9f8c5fd12ff5c2ea46a65"
   }
  }
 },
 "nbformat": 4,
 "nbformat_minor": 2
}
