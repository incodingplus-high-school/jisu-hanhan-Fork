{
 "cells": [
  {
   "cell_type": "code",
   "execution_count": 1,
   "metadata": {},
   "outputs": [
    {
     "name": "stdout",
     "output_type": "stream",
     "text": [
      "1000000\n"
     ]
    }
   ],
   "source": [
    "import time\n",
    "\n",
    "steps: dict[int, int] = {}\n",
    "result:list[int] = []\n",
    "def solution(num:int):\n",
    "    if num == 1:\n",
    "        return 0\n",
    "    if steps.get(num) == None:\n",
    "        if num % 2 == 0:\n",
    "            steps[num] = solution(num // 2) + 1\n",
    "        else:\n",
    "            steps[num] = solution(3 * num + 1) + 1\n",
    "    return steps.get(num)\n",
    "pre = time.time()\n",
    "\n",
    "for i in range(1, 1000000 + 1):\n",
    "    result.append(solution(i))\n",
    "print(len(result))"
   ]
  }
 ],
 "metadata": {
  "kernelspec": {
   "display_name": "Python 3",
   "language": "python",
   "name": "python3"
  },
  "language_info": {
   "codemirror_mode": {
    "name": "ipython",
    "version": 3
   },
   "file_extension": ".py",
   "mimetype": "text/x-python",
   "name": "python",
   "nbconvert_exporter": "python",
   "pygments_lexer": "ipython3",
   "version": "3.10.9"
  },
  "orig_nbformat": 4,
  "vscode": {
   "interpreter": {
    "hash": "fe0425fca59b0166c31534c42d5159b7269c0f751dff544382401a6ccd2edd2f"
   }
  }
 },
 "nbformat": 4,
 "nbformat_minor": 2
}
